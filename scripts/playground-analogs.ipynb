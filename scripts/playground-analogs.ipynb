{
 "cells": [
  {
   "cell_type": "code",
   "execution_count": 13,
   "metadata": {},
   "outputs": [],
   "source": [
    "import pandas as pd\n",
    "from synnet.config import DELIM\n",
    "\n",
    "df_baseline = pd.read_csv('/home/msun415/SynTreeNet/results/baseline/decoded_results_analogs_beam_width=30.csv')\n",
    "df_ours = pd.read_csv('/home/msun415/SynTreeNet/results/viz/reconstruct.csv')\n",
    "\n",
    "lines = open('/home/msun415/SynTreeNet/output_analog_top_k=3_max_num_rxns=3_max_rxns=-1_top_k_rxn=3_strategy=topological.txt').readlines()\n",
    "data = []\n",
    "for line in lines:\n",
    "    _, r, sim = line.split()\n",
    "    (target, best_smi, index) = r.split(DELIM)\n",
    "    data.append({'target': target, 'sim': float(sim), 'decoded': best_smi})\n",
    "df_ours = pd.DataFrame(data)"
   ]
  },
  {
   "cell_type": "code",
   "execution_count": 20,
   "metadata": {},
   "outputs": [
    {
     "ename": "AttributeError",
     "evalue": "'list' object has no attribute 'shape'",
     "output_type": "error",
     "traceback": [
      "\u001b[0;31m---------------------------------------------------------------------------\u001b[0m",
      "\u001b[0;31mAttributeError\u001b[0m                            Traceback (most recent call last)",
      "Cell \u001b[0;32mIn[20], line 4\u001b[0m\n\u001b[1;32m      1\u001b[0m \u001b[38;5;28;01mimport\u001b[39;00m \u001b[38;5;21;01mpickle\u001b[39;00m\n\u001b[1;32m      3\u001b[0m df_unirxn \u001b[38;5;241m=\u001b[39m pickle\u001b[38;5;241m.\u001b[39mload(\u001b[38;5;28mopen\u001b[39m(\u001b[38;5;124m'\u001b[39m\u001b[38;5;124m/home/msun415/Uni-RXN-official/dataset/data/results_fix_1.pkl\u001b[39m\u001b[38;5;124m'\u001b[39m, \u001b[38;5;124m'\u001b[39m\u001b[38;5;124mrb\u001b[39m\u001b[38;5;124m'\u001b[39m))\n\u001b[0;32m----> 4\u001b[0m \u001b[43mdf_unirxn\u001b[49m\u001b[38;5;241;43m.\u001b[39;49m\u001b[43mshape\u001b[49m\n",
      "\u001b[0;31mAttributeError\u001b[0m: 'list' object has no attribute 'shape'"
     ]
    }
   ],
   "source": [
    "import pickle\n",
    "\n",
    "df_unirxn = pickle.load(open('/home/msun415/Uni-RXN-official/dataset/data/results_fix_1.pkl', 'rb'))"
   ]
  },
  {
   "cell_type": "code",
   "execution_count": 27,
   "metadata": {},
   "outputs": [
    {
     "name": "stderr",
     "output_type": "stream",
     "text": [
      "[00:36:52] Warning: ambiguous stereochemistry - linear bond arrangement - at atom 23 ignored\n",
      "[00:36:53] Warning: ambiguous stereochemistry - overlapping neighbors  - at atom 26 ignored\n",
      "[00:36:53] Warning: ambiguous stereochemistry - zero final chiral volume - at atom 28 ignored\n"
     ]
    }
   ],
   "source": [
    "import rdkit.Chem as Chem\n",
    "mols = Chem.SDMolSupplier('/home/msun415/Uni-RXN-official/dataset/data/results_fix_1.sdf')\n",
    "targets = open('/home/msun415/SynTreeNet/data/assets/molecules/chembl_34_1000.txt').readlines()\n",
    "decoded = [Chem.MolToSmiles(mol) for mol in mols]\n",
    "targets = targets[:len(decoded)]\n",
    "df_unirxn = pd.DataFrame({'decoded': decoded, 'targets': targets})"
   ]
  },
  {
   "cell_type": "code",
   "execution_count": 30,
   "metadata": {},
   "outputs": [],
   "source": [
    "from synnet.encoding.distances import _tanimoto_similarity, mol_fp\n",
    "sims = [_tanimoto_similarity(mol_fp(target, 2, 4096), mol_fp(decode, 2, 4096)) for decode, target in zip(decoded, targets)]\n",
    "df_unirxn['sim'] = sims"
   ]
  },
  {
   "cell_type": "code",
   "execution_count": 15,
   "metadata": {},
   "outputs": [],
   "source": [
    "import numpy as np\n",
    "\n",
    "mask = np.arange(len(df_baseline))\n",
    "mask = (mask%100 < 30)\n",
    "df_baseline = df_baseline.iloc[mask, :]\n",
    "\n",
    "df_baseline = df_baseline.dropna(subset=['decoded'])\n"
   ]
  },
  {
   "cell_type": "code",
   "execution_count": 35,
   "metadata": {},
   "outputs": [
    {
     "data": {
      "text/plain": [
       "(avg_sim    0.096525\n",
       " dtype: float64,\n",
       " avg_sim    0.044\n",
       " dtype: float64,\n",
       " avg_sim    0.446381\n",
       " dtype: float64,\n",
       " avg_sim    0.442049\n",
       " dtype: float64,\n",
       " diversity    0.664776\n",
       " dtype: float64,\n",
       " diversity    0.661168\n",
       " dtype: float64,\n",
       " sa_score    2.486835\n",
       " dtype: float64,\n",
       " sa_score    2.705663\n",
       " dtype: float64)"
      ]
     },
     "execution_count": 35,
     "metadata": {},
     "output_type": "execute_result"
    }
   ],
   "source": [
    "from rdkit.Chem import AllChem, DataStructs\n",
    "\n",
    "def compute_diversity(mol_list):\n",
    "    if len(mol_list) == 1:\n",
    "        return 0.\n",
    "    mol_list = [Chem.MolFromSmiles(smi) for smi in mol_list]\n",
    "    similarity = 0\n",
    "    mol_list = [AllChem.GetMorganFingerprintAsBitVect(x, 3, 2048) for x in mol_list] \n",
    "    for i in range(len(mol_list)):\n",
    "        sims = DataStructs.BulkTanimotoSimilarity(mol_list[i], mol_list[:i])\n",
    "        similarity += sum(sims)\n",
    "    n = len(mol_list)\n",
    "    n_pairs = n * (n - 1) / 2\n",
    "    diversity = 1 - similarity / n_pairs\n",
    "    return diversity\n",
    "\n",
    "# first step is group all analogs by target\n",
    "# take the top K via similarity\n",
    "from rdkit.Contrib.SA_Score import sascorer\n",
    "import rdkit.Chem as Chem\n",
    "\n",
    "NUM_ANALOGS = 5\n",
    "\n",
    "\n",
    "result_baseline = df_baseline.groupby('targets').apply(lambda x: x.drop_duplicates(subset='decoded').nlargest(NUM_ANALOGS, 'similarity')).reset_index(drop=True)\n",
    "result_ours = df_ours.groupby('target').apply(lambda x: x.drop_duplicates(subset='decoded').nlargest(NUM_ANALOGS, 'sim')).reset_index(drop=True)\n",
    "result_unirxn = df_unirxn.groupby('targets').apply(lambda x: x.drop_duplicates(subset='decoded').nlargest(NUM_ANALOGS, 'sim')).reset_index(drop=True)\n",
    "\n",
    "# result_baseline = result_baseline.groupby('targets').apply(lambda x: compute_diversity(x)).reset_index(drop=True)\n",
    "\n",
    "result_baseline['sa_score'] = [sascorer.calculateScore(Chem.MolFromSmiles(smi)) for smi in result_baseline['decoded']]\n",
    "result_ours['sa_score'] = [sascorer.calculateScore(Chem.MolFromSmiles(smi)) for smi in result_ours['decoded']]\n",
    "result_unirxn['sa_score'] = [sascorer.calculateScore(Chem.MolFromSmiles(smi)) for smi in result_unirxn['decoded']]\n",
    "\n",
    "\n",
    "aggr_baseline_sim = result_baseline.groupby('targets').agg(avg_sim=('similarity', 'mean'))\n",
    "aggr_ours_sim = result_ours.groupby('target').agg(avg_sim=('sim', 'mean'))\n",
    "aggr_unirxn_sim = result_unirxn.groupby('targets').agg(avg_sim=('sim', 'mean'))\n",
    "aggr_baseline_sim_max = result_baseline.groupby('targets').agg(avg_sim=('similarity', 'max'))\n",
    "aggr_ours_sim_max = result_ours.groupby('target').agg(avg_sim=('sim', 'max'))\n",
    "aggr_ours_sim_max = result_ours.groupby('target').agg(avg_sim=('sim', 'max'))\n",
    "aggr_baseline_sa = result_baseline.groupby('targets').agg(sa_score=('sa_score', 'mean'))\n",
    "aggr_ours_sa = result_ours.groupby('target').agg(sa_score=('sa_score', 'mean'))\n",
    "aggr_unirxn_sa = result_unirxn.groupby('targets').agg(sa_score=('sa_score', 'mean'))\n",
    "aggr_baseline_diversity = result_baseline.groupby('targets').agg(diversity=('decoded', compute_diversity))\n",
    "aggr_ours_diversity = result_ours.groupby('target').agg(diversity=('decoded', compute_diversity))\n",
    "aggr_baseline_recover = result_baseline.groupby('targets').agg(avg_sim=('similarity', 'max')) == 1.\n",
    "aggr_ours_recover = result_ours.groupby('target').agg(avg_sim=('sim', 'max')) == 1.\n",
    "\n",
    "aggr_ours_recover.mean(), aggr_baseline_recover.mean(), aggr_ours_sim.mean(), aggr_baseline_sim.mean(), aggr_ours_diversity.mean(), aggr_baseline_diversity.mean(), aggr_ours_sa.mean(), aggr_baseline_sa.mean(), "
   ]
  },
  {
   "cell_type": "code",
   "execution_count": 38,
   "metadata": {},
   "outputs": [
    {
     "data": {
      "text/plain": [
       "(avg_sim    0.103975\n",
       " dtype: float64,\n",
       " sa_score    3.018992\n",
       " dtype: float64)"
      ]
     },
     "execution_count": 38,
     "metadata": {},
     "output_type": "execute_result"
    }
   ],
   "source": [
    "aggr_unirxn_sim.mean(), aggr_unirxn_sa.mean()"
   ]
  },
  {
   "cell_type": "code",
   "execution_count": 166,
   "metadata": {},
   "outputs": [
    {
     "data": {
      "text/html": [
       "<div>\n",
       "<style scoped>\n",
       "    .dataframe tbody tr th:only-of-type {\n",
       "        vertical-align: middle;\n",
       "    }\n",
       "\n",
       "    .dataframe tbody tr th {\n",
       "        vertical-align: top;\n",
       "    }\n",
       "\n",
       "    .dataframe thead th {\n",
       "        text-align: right;\n",
       "    }\n",
       "</style>\n",
       "<table border=\"1\" class=\"dataframe\">\n",
       "  <thead>\n",
       "    <tr style=\"text-align: right;\">\n",
       "      <th></th>\n",
       "      <th>avg_sim</th>\n",
       "    </tr>\n",
       "    <tr>\n",
       "      <th>targets</th>\n",
       "      <th></th>\n",
       "    </tr>\n",
       "  </thead>\n",
       "  <tbody>\n",
       "    <tr>\n",
       "      <th>Br.C[C@@]1(O)CS[C@@H](n2ccc(N)nc2=O)[C@@H]1O</th>\n",
       "      <td>0.397519</td>\n",
       "    </tr>\n",
       "    <tr>\n",
       "      <th>Br.Cc1ccc2n(c1)cc(COc1ccc(/C=N/NC(=N)NO)cc1)[n+]2C.[Br-]</th>\n",
       "      <td>0.271178</td>\n",
       "    </tr>\n",
       "    <tr>\n",
       "      <th>Brc1ccc(OC(c2ccccc2)C2CCNCC2)cc1</th>\n",
       "      <td>0.765883</td>\n",
       "    </tr>\n",
       "    <tr>\n",
       "      <th>C#CC(=O)N(c1cccc(NS(C)(=O)=O)c1)C(C(=O)NCc1ccccc1)c1cccc(N)c1</th>\n",
       "      <td>0.531385</td>\n",
       "    </tr>\n",
       "    <tr>\n",
       "      <th>C#CC(C)(C)N=C(S)NC1CC2C=CC1C2</th>\n",
       "      <td>0.295130</td>\n",
       "    </tr>\n",
       "    <tr>\n",
       "      <th>...</th>\n",
       "      <td>...</td>\n",
       "    </tr>\n",
       "    <tr>\n",
       "      <th>c1cc2c(cc1CN[C@H]1C3C4CC5C6C4CC3C6C51)OCO2</th>\n",
       "      <td>0.739114</td>\n",
       "    </tr>\n",
       "    <tr>\n",
       "      <th>c1ccc(C(n2ccnc2)n2ccnc2)cc1</th>\n",
       "      <td>0.380998</td>\n",
       "    </tr>\n",
       "    <tr>\n",
       "      <th>c1ccc(CC2CCN(c3ncnc4sc5c(c34)CCCC5)CC2)cc1</th>\n",
       "      <td>0.815158</td>\n",
       "    </tr>\n",
       "    <tr>\n",
       "      <th>c1ccc(Nc2ncnc3c2oc2cc(-c4ccc5c(c4)OCO5)cnc23)cc1</th>\n",
       "      <td>0.448492</td>\n",
       "    </tr>\n",
       "    <tr>\n",
       "      <th>c1ccc2c(c1)nc1n2CCN1</th>\n",
       "      <td>0.388835</td>\n",
       "    </tr>\n",
       "  </tbody>\n",
       "</table>\n",
       "<p>1000 rows × 1 columns</p>\n",
       "</div>"
      ],
      "text/plain": [
       "                                                     avg_sim\n",
       "targets                                                     \n",
       "Br.C[C@@]1(O)CS[C@@H](n2ccc(N)nc2=O)[C@@H]1O        0.397519\n",
       "Br.Cc1ccc2n(c1)cc(COc1ccc(/C=N/NC(=N)NO)cc1)[n+...  0.271178\n",
       "Brc1ccc(OC(c2ccccc2)C2CCNCC2)cc1                    0.765883\n",
       "C#CC(=O)N(c1cccc(NS(C)(=O)=O)c1)C(C(=O)NCc1cccc...  0.531385\n",
       "C#CC(C)(C)N=C(S)NC1CC2C=CC1C2                       0.295130\n",
       "...                                                      ...\n",
       "c1cc2c(cc1CN[C@H]1C3C4CC5C6C4CC3C6C51)OCO2          0.739114\n",
       "c1ccc(C(n2ccnc2)n2ccnc2)cc1                         0.380998\n",
       "c1ccc(CC2CCN(c3ncnc4sc5c(c34)CCCC5)CC2)cc1          0.815158\n",
       "c1ccc(Nc2ncnc3c2oc2cc(-c4ccc5c(c4)OCO5)cnc23)cc1    0.448492\n",
       "c1ccc2c(c1)nc1n2CCN1                                0.388835\n",
       "\n",
       "[1000 rows x 1 columns]"
      ]
     },
     "execution_count": 166,
     "metadata": {},
     "output_type": "execute_result"
    }
   ],
   "source": [
    "aggr_baseline_sim==1"
   ]
  },
  {
   "cell_type": "code",
   "execution_count": 47,
   "metadata": {},
   "outputs": [
    {
     "data": {
      "text/plain": [
       "(100000, 3)"
      ]
     },
     "execution_count": 47,
     "metadata": {},
     "output_type": "execute_result"
    }
   ],
   "source": [
    "df_baseline.shape"
   ]
  },
  {
   "cell_type": "code",
   "execution_count": 51,
   "metadata": {},
   "outputs": [
    {
     "data": {
      "text/plain": [
       "(155, 4)"
      ]
     },
     "execution_count": 51,
     "metadata": {},
     "output_type": "execute_result"
    }
   ],
   "source": [
    "result_ours.shape"
   ]
  },
  {
   "cell_type": "code",
   "execution_count": 136,
   "metadata": {},
   "outputs": [],
   "source": [
    "import pickle\n",
    "bb_file = '/home/msun415/SynTreeNet/data/assets/building-blocks/enamine_us_matched.csv'\n",
    "reactants = pd.read_csv(bb_file)['SMILES']\n",
    "dic = {'reactant': list(reactants), 'reagent': list(reactants)}\n",
    "pickle.dump(dic, open('/home/msun415/Uni-RXN-official/dataset/data/enamine_react_lib_smi.pkl', 'wb+'))\n"
   ]
  },
  {
   "cell_type": "code",
   "execution_count": null,
   "metadata": {},
   "outputs": [],
   "source": []
  }
 ],
 "metadata": {
  "kernelspec": {
   "display_name": "synnet",
   "language": "python",
   "name": "python3"
  },
  "language_info": {
   "codemirror_mode": {
    "name": "ipython",
    "version": 3
   },
   "file_extension": ".py",
   "mimetype": "text/x-python",
   "name": "python",
   "nbconvert_exporter": "python",
   "pygments_lexer": "ipython3",
   "version": "3.9.18"
  }
 },
 "nbformat": 4,
 "nbformat_minor": 2
}
