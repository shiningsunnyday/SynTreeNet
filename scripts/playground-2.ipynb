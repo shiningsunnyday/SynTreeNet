{
 "cells": [
  {
   "cell_type": "code",
   "execution_count": 4,
   "metadata": {},
   "outputs": [
    {
     "data": {
      "text/plain": [
       "['CCNS(=O)(=O)c1cc([N+](=O)[O-])ccc1C1=NC(c2ccc(N=C=O)cc2F)=NN1',\n",
       " 'COC(=O)c1ccc(NC(=O)Nc2ccc(C#N)nc2)c(O)c1',\n",
       " 'Nc1c(Cl)cc(F)cc1C1=NC(c2cc([N+](=O)[O-])c(F)cc2F)=NN1',\n",
       " 'CC(=O)N(c1nc(CNC(=S)Nc2cc(Br)cc(Cl)c2C(=O)O)cs1)c1c(C)cc(C)cc1Cl',\n",
       " 'COC(=O)c1ccc(OCCNC(=O)CN=C=S)c(N)c1F',\n",
       " 'CC(C)(C)c1ccc2c(c1)C(=O)NC(CN=C=S)=N2',\n",
       " 'CC(C)Nc1ccc(Cl)cc1NS(=O)(=O)Cc1cc(F)ccc1[N+](=O)[O-]',\n",
       " 'CCCn1c(-c2cc(Cl)cc(Cl)c2[N+](=O)[O-])nc2ccccc21',\n",
       " 'COCCOc1cc(NS(=O)(=O)Cc2cc(F)ccc2[N+](=O)[O-])c(C(=O)O)cc1OC',\n",
       " 'Cc1ccc(N=C=O)c(C2=NNC(Cc3ccc(N=C=S)cc3)=N2)c1']"
      ]
     },
     "execution_count": 4,
     "metadata": {},
     "output_type": "execute_result"
    }
   ],
   "source": [
    "import pickle\n",
    "import os\n",
    "\n",
    "\n",
    "data = pickle.load(open('/home/msun415/SynTreeNet/results/viz/top_1000/skeletons-top-1000-valid.pkl', 'rb'))\n",
    "inds = [0,1,2,3,15,20,22,32,47,60,61,62,64,65,68,72,96,104,156,245,292,295,525,540,812,958,1107,2024,2252,6180]\n",
    "sts = [list(data)[ind] for ind in inds]\n",
    "smiles = []\n",
    "for st in sts:\n",
    "    for st in data[st]:\n",
    "        assert len(st.reactions) <= 4\n",
    "        smiles.append(st.root.smiles)\n",
    "\n",
    "smiles[:10]"
   ]
  },
  {
   "cell_type": "code",
   "execution_count": 7,
   "metadata": {},
   "outputs": [],
   "source": [
    "len(smiles)\n",
    "with open('/home/msun415/SynTreeNet/data/assets/molecules/depth-5.txt', 'w+') as f:\n",
    "    for smile in smiles:\n",
    "        f.write(f\"{smile}\\n\")\n"
   ]
  },
  {
   "cell_type": "code",
   "execution_count": 44,
   "metadata": {},
   "outputs": [],
   "source": [
    "import matplotlib.pyplot as plt\n",
    "import numpy as np\n",
    "lines = open('/home/msun415/SynTreeNet/output_mcmc_top_k=3_max_num_rxns=3.txt.txt').readlines()\n",
    "all_scores = []\n",
    "all_smiles = []\n",
    "all_indices = []\n",
    "for line in lines:\n",
    "    index, smiles, score_history, smiles_history, index_history = line.split()\n",
    "    all_scores.append(list(map(float, score_history.split(','))))\n",
    "    all_smiles.append(smiles_history.split(','))\n",
    "    all_indices.append(list(map(int, index_history.split(','))))\n",
    "all_scores = np.array(all_scores)"
   ]
  },
  {
   "cell_type": "code",
   "execution_count": 45,
   "metadata": {},
   "outputs": [],
   "source": [
    "fig = plt.Figure()\n",
    "ax = fig.add_subplot(1,1,1)\n",
    "all_scores = all_scores[:, :20]\n",
    "max_accum = np.maximum.accumulate(all_scores, axis=-1)\n",
    "max_mean = max_accum.mean(axis=0)\n",
    "max_std = max_accum.std(axis=0)\n",
    "x = np.arange(len(max_mean))\n",
    "ax.plot(x, max_mean, label='Mean', color='blue')\n",
    "ax.fill_between(x, max_mean-max_std, max_mean+max_std, color='blue', alpha=0.2, label='Standard Deviation')\n",
    "fig.savefig(\"/home/msun415/test.png\")"
   ]
  },
  {
   "cell_type": "code",
   "execution_count": 34,
   "metadata": {},
   "outputs": [
    {
     "data": {
      "text/plain": [
       "(101,)"
      ]
     },
     "execution_count": 34,
     "metadata": {},
     "output_type": "execute_result"
    }
   ],
   "source": [
    "max_std.shape"
   ]
  },
  {
   "cell_type": "code",
   "execution_count": null,
   "metadata": {},
   "outputs": [],
   "source": []
  }
 ],
 "metadata": {
  "kernelspec": {
   "display_name": "synnet",
   "language": "python",
   "name": "python3"
  },
  "language_info": {
   "codemirror_mode": {
    "name": "ipython",
    "version": 3
   },
   "file_extension": ".py",
   "mimetype": "text/x-python",
   "name": "python",
   "nbconvert_exporter": "python",
   "pygments_lexer": "ipython3",
   "version": "3.9.18"
  }
 },
 "nbformat": 4,
 "nbformat_minor": 2
}
