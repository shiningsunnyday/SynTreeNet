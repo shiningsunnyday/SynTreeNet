{
 "cells": [
  {
   "cell_type": "code",
   "execution_count": 4,
   "metadata": {},
   "outputs": [
    {
     "data": {
      "text/plain": [
       "['CCNS(=O)(=O)c1cc([N+](=O)[O-])ccc1C1=NC(c2ccc(N=C=O)cc2F)=NN1',\n",
       " 'COC(=O)c1ccc(NC(=O)Nc2ccc(C#N)nc2)c(O)c1',\n",
       " 'Nc1c(Cl)cc(F)cc1C1=NC(c2cc([N+](=O)[O-])c(F)cc2F)=NN1',\n",
       " 'CC(=O)N(c1nc(CNC(=S)Nc2cc(Br)cc(Cl)c2C(=O)O)cs1)c1c(C)cc(C)cc1Cl',\n",
       " 'COC(=O)c1ccc(OCCNC(=O)CN=C=S)c(N)c1F',\n",
       " 'CC(C)(C)c1ccc2c(c1)C(=O)NC(CN=C=S)=N2',\n",
       " 'CC(C)Nc1ccc(Cl)cc1NS(=O)(=O)Cc1cc(F)ccc1[N+](=O)[O-]',\n",
       " 'CCCn1c(-c2cc(Cl)cc(Cl)c2[N+](=O)[O-])nc2ccccc21',\n",
       " 'COCCOc1cc(NS(=O)(=O)Cc2cc(F)ccc2[N+](=O)[O-])c(C(=O)O)cc1OC',\n",
       " 'Cc1ccc(N=C=O)c(C2=NNC(Cc3ccc(N=C=S)cc3)=N2)c1']"
      ]
     },
     "execution_count": 4,
     "metadata": {},
     "output_type": "execute_result"
    }
   ],
   "source": [
    "import pickle\n",
    "import os\n",
    "\n",
    "\n",
    "data = pickle.load(open('/home/msun415/SynTreeNet/results/viz/top_1000/skeletons-top-1000-valid.pkl', 'rb'))\n",
    "inds = [0,1,2,3,15,20,22,32,47,60,61,62,64,65,68,72,96,104,156,245,292,295,525,540,812,958,1107,2024,2252,6180]\n",
    "sts = [list(data)[ind] for ind in inds]\n",
    "smiles = []\n",
    "for st in sts:\n",
    "    for st in data[st]:\n",
    "        assert len(st.reactions) <= 4\n",
    "        smiles.append(st.root.smiles)\n",
    "\n",
    "smiles[:10]"
   ]
  },
  {
   "cell_type": "code",
   "execution_count": 7,
   "metadata": {},
   "outputs": [],
   "source": [
    "len(smiles)\n",
    "with open('/home/msun415/SynTreeNet/data/assets/molecules/depth-5.txt', 'w+') as f:\n",
    "    for smile in smiles:\n",
    "        f.write(f\"{smile}\\n\")\n"
   ]
  },
  {
   "cell_type": "code",
   "execution_count": null,
   "metadata": {},
   "outputs": [],
   "source": []
  }
 ],
 "metadata": {
  "kernelspec": {
   "display_name": "synnet",
   "language": "python",
   "name": "python3"
  },
  "language_info": {
   "codemirror_mode": {
    "name": "ipython",
    "version": 3
   },
   "file_extension": ".py",
   "mimetype": "text/x-python",
   "name": "python",
   "nbconvert_exporter": "python",
   "pygments_lexer": "ipython3",
   "version": "3.9.18"
  }
 },
 "nbformat": 4,
 "nbformat_minor": 2
}
