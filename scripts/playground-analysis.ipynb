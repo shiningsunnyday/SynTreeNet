{
 "cells": [
  {
   "cell_type": "code",
   "execution_count": 93,
   "metadata": {},
   "outputs": [],
   "source": [
    "import numpy as np \n",
    "from matplotlib import pyplot as plt\n",
    "import pickle\n",
    "from synnet.utils.data_utils import SkeletonSet\n",
    "import random\n",
    "random.seed(42)\n",
    "\n",
    "from synnet.encoding.fingerprints import fp_4096\n",
    "from synnet.utils.reconstruct_utils import fetch_oracle\n",
    "from tqdm import tqdm\n",
    "import pandas as pd"
   ]
  },
  {
   "cell_type": "code",
   "execution_count": 39,
   "metadata": {},
   "outputs": [],
   "source": [
    "\n",
    "\n",
    "sts = pickle.load(open('/home/msun415/SynTreeNet/results/viz/skeletons-valid.pkl', 'rb'))\n",
    "all_skeletons = pickle.load(open('/home/msun415/SynTreeNet/results/viz/skeletons-train.pkl','rb'))\n"
   ]
  },
  {
   "cell_type": "code",
   "execution_count": 23,
   "metadata": {},
   "outputs": [
    {
     "name": "stdout",
     "output_type": "stream",
     "text": [
      "begin computing similarity matrix\n"
     ]
    },
    {
     "name": "stderr",
     "output_type": "stream",
     "text": [
      "100%|██████████| 625521/625521 [00:39<00:00, 15970.36it/s]\n"
     ]
    },
    {
     "ename": "KeyError",
     "evalue": "0",
     "output_type": "error",
     "traceback": [
      "\u001b[0;31m---------------------------------------------------------------------------\u001b[0m",
      "\u001b[0;31mKeyError\u001b[0m                                  Traceback (most recent call last)",
      "Cell \u001b[0;32mIn[23], line 9\u001b[0m\n\u001b[1;32m      7\u001b[0m count \u001b[38;5;241m=\u001b[39m {}\n\u001b[1;32m      8\u001b[0m \u001b[38;5;28;01mfor\u001b[39;00m mol_sk \u001b[38;5;129;01min\u001b[39;00m mol_sks:\n\u001b[0;32m----> 9\u001b[0m     \u001b[38;5;28;01mif\u001b[39;00m \u001b[43mcount\u001b[49m\u001b[43m[\u001b[49m\u001b[43mmol_sk\u001b[49m\u001b[43m[\u001b[49m\u001b[38;5;241;43m0\u001b[39;49m\u001b[43m]\u001b[49m\u001b[43m]\u001b[49m \u001b[38;5;241m>\u001b[39m\u001b[38;5;241m=\u001b[39m \u001b[38;5;241m10\u001b[39m:\n\u001b[1;32m     10\u001b[0m         \u001b[38;5;28;01mcontinue\u001b[39;00m\n\u001b[1;32m     11\u001b[0m     new_mol_sks\u001b[38;5;241m.\u001b[39mappend(mol_sk)\n",
      "\u001b[0;31mKeyError\u001b[0m: 0"
     ]
    }
   ],
   "source": [
    "\n",
    "sk_set = SkeletonSet().load_skeletons(sts)\n",
    "sk_set.embed_skeletons()\n"
   ]
  },
  {
   "cell_type": "code",
   "execution_count": 187,
   "metadata": {},
   "outputs": [],
   "source": [
    "mol_sks = [(sk.index, sk.tree.nodes[sk.tree_root]['smiles']) for smi in sk_set.lookup for sk in sk_set.lookup[smi]]\n",
    "\n",
    "k = 100\n",
    "\n",
    "vis_class_criteria = lambda i:len(all_skeletons[list(all_skeletons)[i]])\n",
    "top_indices = sorted(range(len(all_skeletons)), key=vis_class_criteria)[-k:]\n",
    "new_class = dict(zip(top_indices[::-1], range(len(top_indices))))\n",
    "\n",
    "# for visualizing sk, restrict to only 10 from each class\n",
    "new_mol_sks = []\n",
    "count = dict(zip(range(len(top_indices)), [0 for _ in top_indices]))\n",
    "for mol_sk in mol_sks:\n",
    "    if mol_sk[0] not in new_class:\n",
    "        continue\n",
    "    if new_class[mol_sk[0]] not in count:\n",
    "        continue\n",
    "    if count[new_class[mol_sk[0]]] >= 30:\n",
    "        continue\n",
    "    new_mol_sks.append((new_class[mol_sk[0]], mol_sk[1]))\n",
    "    count[new_class[mol_sk[0]]] += 1\n",
    "\n",
    "mol_sks = new_mol_sks\n",
    "\n",
    "# random.shuffle(mol_sks)\n",
    "# mol_sks = mol_sks[:1000]"
   ]
  },
  {
   "cell_type": "code",
   "execution_count": 188,
   "metadata": {},
   "outputs": [],
   "source": [
    "# lines = open('/home/msun415/polymer_walk/datasets/lohc.txt').readlines()\n",
    "# smis = []\n",
    "# mol_sks = []\n",
    "# scores = []\n",
    "# for l in lines[1:]:\n",
    "#     smis.append(l.split(',')[0])\n",
    "#     mol_sks.append((0, l.split(',')[0]))\n",
    "#     scores.append(float(l.split(',')[2]))"
   ]
  },
  {
   "cell_type": "code",
   "execution_count": 189,
   "metadata": {},
   "outputs": [
    {
     "name": "stderr",
     "output_type": "stream",
     "text": [
      "100%|██████████| 1314/1314 [00:11<00:00, 113.58it/s]\n"
     ]
    }
   ],
   "source": [
    "fp_dist = np.zeros((len(mol_sks), len(mol_sks)))\n",
    "fps = [np.array(fp_4096(mol_sk[1])) for mol_sk in mol_sks]\n",
    "for i in tqdm(range(len(mol_sks))):\n",
    "    for j in range(len(mol_sks)):\n",
    "        fp_dist[i, j] = np.abs(fps[i]-fps[j]).sum()\n",
    "\n",
    "max_dist = sk_set.sim.max()\n",
    "max_fp_dist = fp_dist.max()\n"
   ]
  },
  {
   "cell_type": "code",
   "execution_count": 190,
   "metadata": {},
   "outputs": [
    {
     "name": "stderr",
     "output_type": "stream",
     "text": [
      "100%|██████████| 1314/1314 [00:01<00:00, 690.76it/s]\n",
      "100%|██████████| 1314/1314 [00:00<00:00, 1533.41it/s]\n"
     ]
    }
   ],
   "source": [
    "lambd = 0.5\n",
    "dists = np.zeros((len(mol_sks), len(mol_sks)))\n",
    "for i in tqdm(range(len(mol_sks))):\n",
    "    for j in range(len(mol_sks)):\n",
    "        index1 = mol_sks[i][0]\n",
    "        index2 = mol_sks[j][0]\n",
    "        dists[i][j] = lambd*sk_set.sim[index1][index2]/max_dist + (1-lambd)*fp_dist[i][j]/max_fp_dist\n",
    "\n",
    "dists_fp = np.zeros((len(mol_sks), len(mol_sks)))\n",
    "for i in tqdm(range(len(mol_sks))):\n",
    "    for j in range(len(mol_sks)):  \n",
    "        dists_fp[i][j] = fp_dist[i][j]/max_fp_dist"
   ]
  },
  {
   "cell_type": "code",
   "execution_count": 191,
   "metadata": {},
   "outputs": [],
   "source": [
    "from sklearn.manifold import MDS\n",
    "# ms = MDS(n_components=2, dissimilarity='precomputed', verbose=1)\n",
    "# coords = ms.fit_transform(dists)\n",
    "ms = MDS(n_components=2, dissimilarity='precomputed', verbose=1)\n",
    "coords_fp = ms.fit_transform(dists_fp)"
   ]
  },
  {
   "cell_type": "code",
   "execution_count": 192,
   "metadata": {},
   "outputs": [],
   "source": [
    "plt.rc('text', usetex=False)\n",
    "plt.rc('font', family='serif')\n",
    "plt.rcParams['font.size'] = 12  # Default font size for all text\n",
    "plt.rcParams['axes.titlesize'] = 20  # Font size for axes titles\n",
    "plt.rcParams['axes.labelsize'] = 14  # Font size for x and y labels\n",
    "plt.rcParams['xtick.labelsize'] = 10  # Font size for x-tick labels\n",
    "plt.rcParams['ytick.labelsize'] = 10  # Font size for y-tick labels\n",
    "plt.rcParams['legend.fontsize'] = 14  # Font size for legends\n",
    "cmap = plt.cm.get_cmap('viridis', k)\n",
    "fig = plt.Figure()\n",
    "ax = fig.add_subplot(1,1,1)  \n",
    "scatter = ax.scatter(coords_fp[:,0], coords_fp[:,1], c=[mol_sk[0] for mol_sk in mol_sks], cmap=cmap, edgecolor='k', s=50)\n",
    "cbar = fig.colorbar(scatter, ax=ax, label='Class', ticks=(range(0,100,10) if k == 100 else range(k)))\n",
    "cbar.set_ticklabels([i for i in (range(0,100,10) if k == 100 else range(k))])\n",
    "# ax.set_title(f'MDS Plot of FP-Skeleton relationship')\n",
    "ax.set_xlabel('MDS Dimension 1')\n",
    "ax.set_ylabel('MDS Dimension 2')\n",
    "fig.savefig(f\"/home/msun415/SynTreeNet/mds-sks-{k}.png\",bbox_inches='tight')\n"
   ]
  },
  {
   "cell_type": "code",
   "execution_count": 193,
   "metadata": {},
   "outputs": [
    {
     "ename": "NameError",
     "evalue": "name 'scores' is not defined",
     "output_type": "error",
     "traceback": [
      "\u001b[0;31m---------------------------------------------------------------------------\u001b[0m",
      "\u001b[0;31mNameError\u001b[0m                                 Traceback (most recent call last)",
      "Cell \u001b[0;32mIn[193], line 1\u001b[0m\n\u001b[0;32m----> 1\u001b[0m scores \u001b[38;5;241m=\u001b[39m np\u001b[38;5;241m.\u001b[39marray(\u001b[43mscores\u001b[49m)\n\u001b[1;32m      2\u001b[0m normalized_scores \u001b[38;5;241m=\u001b[39m (scores \u001b[38;5;241m-\u001b[39m \u001b[38;5;28mmin\u001b[39m(scores)) \u001b[38;5;241m/\u001b[39m (\u001b[38;5;28mmax\u001b[39m(scores) \u001b[38;5;241m-\u001b[39m \u001b[38;5;28mmin\u001b[39m(scores))\n\u001b[1;32m      3\u001b[0m quantiles \u001b[38;5;241m=\u001b[39m pd\u001b[38;5;241m.\u001b[39mqcut(normalized_scores, \u001b[38;5;241m4\u001b[39m, labels\u001b[38;5;241m=\u001b[39m\u001b[38;5;28;01mFalse\u001b[39;00m)\n",
      "\u001b[0;31mNameError\u001b[0m: name 'scores' is not defined"
     ]
    }
   ],
   "source": [
    "scores = np.array(scores)\n",
    "normalized_scores = (scores - min(scores)) / (max(scores) - min(scores))\n",
    "quantiles = pd.qcut(normalized_scores, 4, labels=False)\n",
    "fig = plt.Figure()\n",
    "ax = fig.add_subplot(1,1,1)  \n",
    "scatter = ax.scatter(coords_fp[:,0], coords_fp[:,1], c=quantiles, cmap=cmap, edgecolor='k', s=10)\n",
    "fig.colorbar(scatter, ax=ax, label='Score')\n",
    "# ax.set_title(f'MDS Plot of Fingerprint-Property relationship')\n",
    "ax.set_xlabel('MDS Dimension 1')\n",
    "ax.set_ylabel('MDS Dimension 2')\n",
    "fig.savefig(f\"/home/msun415/SynTreeNet/fp-wt-h2.png\")"
   ]
  },
  {
   "cell_type": "code",
   "execution_count": null,
   "metadata": {},
   "outputs": [
    {
     "name": "stderr",
     "output_type": "stream",
     "text": [
      "100%|██████████| 1000/1000 [00:01<00:00, 615.45it/s]\n",
      "Found local copy...\n",
      "100%|██████████| 1000/1000 [00:10<00:00, 92.01it/s]\n",
      "Found local copy...\n",
      "100%|██████████| 1000/1000 [00:57<00:00, 17.33it/s]\n",
      "Found local copy...\n",
      "100%|██████████| 1000/1000 [01:06<00:00, 15.10it/s]\n"
     ]
    }
   ],
   "source": [
    "\n",
    "fig = plt.Figure(figsize=(20,10))\n",
    "fig.suptitle('MDS Plot of Structure-Property Relationships')\n",
    "for i, prop in enumerate(['qed','drd2','gsk','jnk']):\n",
    "    oracle = fetch_oracle(prop)\n",
    "    scores = [oracle(mol_sk[1]) for mol_sk in tqdm(mol_sks)]    \n",
    "    \n",
    "    ax = fig.add_subplot(2,4,i+1)\n",
    "    scores = np.array(scores)\n",
    "    normalized_scores = (scores - min(scores)) / (max(scores) - min(scores))\n",
    "    quantiles = pd.qcut(normalized_scores, 4, labels=False)\n",
    "    scatter = ax.scatter(coords[:,0], coords[:,1], c=quantiles, cmap=cmap, edgecolor='k', s=20)\n",
    "    fig.colorbar(scatter, ax=ax, label='Score')\n",
    "    ax.set_title(f'(Skeleton, Fingerprint)-Property ({prop})', fontsize=10)\n",
    "    ax.set_xlabel('MDS Dimension 1')\n",
    "    ax.set_ylabel('MDS Dimension 2')\n",
    "    # fig.savefig(f\"/home/msun415/SynTreeNet/mds-{prop}-0.5.png\")\n",
    "\n",
    "    ax = fig.add_subplot(2,4,4+i+1)  \n",
    "    scatter = ax.scatter(coords_fp[:,0], coords_fp[:,1], c=quantiles, cmap=cmap, edgecolor='k', s=20)\n",
    "    fig.colorbar(scatter, ax=ax, label='Score')\n",
    "    ax.set_title(f'Fingerprint-Property ({prop})', fontsize=10)\n",
    "    ax.set_xlabel('MDS Dimension 1')\n",
    "    ax.set_ylabel('MDS Dimension 2')\n",
    "    fig.savefig(f\"/home/msun415/SynTreeNet/mds-all.png\")\n",
    "\n"
   ]
  },
  {
   "cell_type": "code",
   "execution_count": 15,
   "metadata": {},
   "outputs": [
    {
     "data": {
      "text/plain": [
       "array([0.  , 0.01, 0.02, ..., 0.  , 0.  , 0.  ])"
      ]
     },
     "execution_count": 15,
     "metadata": {},
     "output_type": "execute_result"
    }
   ],
   "source": [
    "scores"
   ]
  },
  {
   "cell_type": "code",
   "execution_count": null,
   "metadata": {},
   "outputs": [],
   "source": []
  }
 ],
 "metadata": {
  "kernelspec": {
   "display_name": "synnet",
   "language": "python",
   "name": "synnet"
  },
  "language_info": {
   "codemirror_mode": {
    "name": "ipython",
    "version": 3
   },
   "file_extension": ".py",
   "mimetype": "text/x-python",
   "name": "python",
   "nbconvert_exporter": "python",
   "pygments_lexer": "ipython3",
   "version": "3.9.18"
  }
 },
 "nbformat": 4,
 "nbformat_minor": 2
}
