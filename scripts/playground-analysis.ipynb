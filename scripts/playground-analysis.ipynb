{
 "cells": [
  {
   "cell_type": "code",
   "execution_count": 1,
   "metadata": {},
   "outputs": [
    {
     "name": "stderr",
     "output_type": "stream",
     "text": [
      "17:30:12 rdkit INFO: Enabling RDKit 2023.09.5 jupyter extensions\n"
     ]
    }
   ],
   "source": [
    "from matplotlib import pyplot as plt\n",
    "import pickle\n",
    "\n",
    "sts = pickle.load(open('/home/msun415/SynTreeNet/results/viz/skeletons-valid.pkl', 'rb'))\n",
    "\n"
   ]
  },
  {
   "cell_type": "code",
   "execution_count": null,
   "metadata": {},
   "outputs": [],
   "source": []
  },
  {
   "cell_type": "code",
   "execution_count": 2,
   "metadata": {},
   "outputs": [],
   "source": [
    "from synnet.utils.data_utils import SkeletonSet\n",
    "import random\n",
    "random.seed(42)\n",
    "for st in sts:\n",
    "    random.shuffle(sts[st])\n",
    "    sts[st] = sts[st][:10]\n",
    "sk_set = SkeletonSet().load_skeletons(sts)"
   ]
  },
  {
   "cell_type": "code",
   "execution_count": 3,
   "metadata": {},
   "outputs": [
    {
     "name": "stdout",
     "output_type": "stream",
     "text": [
      "begin computing similarity matrix\n"
     ]
    },
    {
     "name": "stderr",
     "output_type": "stream",
     "text": [
      "100%|██████████| 625521/625521 [01:27<00:00, 7115.38it/s] \n"
     ]
    },
    {
     "name": "stdout",
     "output_type": "stream",
     "text": [
      "begin mds\n"
     ]
    },
    {
     "name": "stderr",
     "output_type": "stream",
     "text": [
      "/home/msun415/miniconda3/envs/synnet/lib/python3.9/site-packages/sklearn/manifold/_mds.py:299: FutureWarning: The default value of `normalized_stress` will change to `'auto'` in version 1.4. To suppress this warning, manually set the value of `normalized_stress`.\n",
      "  warnings.warn(\n"
     ]
    },
    {
     "name": "stdout",
     "output_type": "stream",
     "text": [
      "breaking at iteration 1 with stress 828759420.0285318\n",
      "breaking at iteration 1 with stress 828442940.6316681\n",
      "breaking at iteration 1 with stress 828414469.4267238\n",
      "breaking at iteration 1 with stress 828356423.4770769\n"
     ]
    }
   ],
   "source": [
    "sk_set.embed_skeletons()"
   ]
  },
  {
   "cell_type": "code",
   "execution_count": 4,
   "metadata": {},
   "outputs": [
    {
     "data": {
      "text/plain": [
       "1061"
      ]
     },
     "execution_count": 4,
     "metadata": {},
     "output_type": "execute_result"
    }
   ],
   "source": []
  },
  {
   "cell_type": "code",
   "execution_count": 5,
   "metadata": {},
   "outputs": [
    {
     "name": "stderr",
     "output_type": "stream",
     "text": [
      "17:33:26 faiss.loader INFO: Loading faiss with AVX2 support.\n",
      "17:33:26 faiss.loader INFO: Successfully loaded faiss with AVX2 support.\n"
     ]
    }
   ],
   "source": [
    "import numpy as np \n",
    "from synnet.encoding.fingerprints import fp_4096\n",
    "from synnet.utils.reconstruct_utils import fetch_oracle\n",
    "\n",
    "mols = []\n",
    "for smi in sk_set.lookup:\n",
    "    for sk in sk_set.lookup[smi]:\n",
    "        mols.append((sk.index, sk.tree.nodes[sk.tree_root]['smiles']))\n",
    "oracle = fetch_oracle('drd2')\n",
    "scores = [oracle(mol_sk[1]) for mol_sk in mols]\n",
    "\n",
    "\n",
    "\n"
   ]
  },
  {
   "cell_type": "code",
   "execution_count": 33,
   "metadata": {},
   "outputs": [
    {
     "data": {
      "text/plain": [
       "1061"
      ]
     },
     "execution_count": 33,
     "metadata": {},
     "output_type": "execute_result"
    }
   ],
   "source": [
    "len(sk_set.lookup), len(mols), len(sk_set.sks)"
   ]
  },
  {
   "cell_type": "code",
   "execution_count": 23,
   "metadata": {},
   "outputs": [],
   "source": [
    "fp_dist = np.zeros((len(mols), len(mols)))\n",
    "fps = [np.array(fp_4096(mol_sk[1])) for mol_sk in mols]\n",
    "for i in range(len(mols)):\n",
    "    for j in range(len(mols)):\n",
    "        fp_dist[i, j] = np.abs(fps[i]-fps[j]).sum()\n",
    "\n",
    "max_dist = sk_set.sim.max()\n",
    "max_fp_dist = fp_dist.max()\n",
    "\n",
    "dists = np.zeros((len(mols), len(mols)))\n",
    "for i in range(len(mols)):\n",
    "    for j in range(len(mols)):\n",
    "        index1 = mols[i][0]\n",
    "        index2 = mols[j][0]\n",
    "        dists[i][j] = sk_set.sim[index1][index2]/max_dist + fp_dist[i][j]/max_fp_dist"
   ]
  },
  {
   "cell_type": "code",
   "execution_count": 32,
   "metadata": {},
   "outputs": [
    {
     "data": {
      "text/plain": [
       "[(0,\n",
       "  'Cn1c(Nc2cc([N+](=O)[O-])c(N3CCC(Cc4cccc(O)c4)CC3)cc2N)c(-c2nn[nH]n2)c(=O)n(C)c1=O'),\n",
       " (0,\n",
       "  'Cn1c(Nc2cc([N+](=O)[O-])c(N3CCC(Cc4cccc(O)c4)CC3)cc2N)c(-c2nn[nH]n2)c(=O)n(C)c1=O'),\n",
       " (0,\n",
       "  'Cn1c(Nc2cc([N+](=O)[O-])c(N3CCC(Cc4cccc(O)c4)CC3)cc2N)c(-c2nn[nH]n2)c(=O)n(C)c1=O')]"
      ]
     },
     "execution_count": 32,
     "metadata": {},
     "output_type": "execute_result"
    }
   ],
   "source": [
    "mols[:3]"
   ]
  },
  {
   "cell_type": "code",
   "execution_count": null,
   "metadata": {},
   "outputs": [],
   "source": [
    "fig = plt.Figure()\n",
    "ax = fig.add_subplot(1,1,1)\n",
    "ax.scatter(coords[:,0], coords[:,1], c=scores, cmap='viridis', edgecolor='k')\n",
    "plt.colorbar(scatter, label='Score')"
   ]
  }
 ],
 "metadata": {
  "kernelspec": {
   "display_name": "synnet",
   "language": "python",
   "name": "python3"
  },
  "language_info": {
   "codemirror_mode": {
    "name": "ipython",
    "version": 3
   },
   "file_extension": ".py",
   "mimetype": "text/x-python",
   "name": "python",
   "nbconvert_exporter": "python",
   "pygments_lexer": "ipython3",
   "version": "3.9.18"
  }
 },
 "nbformat": 4,
 "nbformat_minor": 2
}
