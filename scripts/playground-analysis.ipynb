{
 "cells": [
  {
   "cell_type": "code",
   "execution_count": 1,
   "metadata": {},
   "outputs": [
    {
     "name": "stderr",
     "output_type": "stream",
     "text": [
      "23:40:00 rdkit INFO: Enabling RDKit 2023.09.5 jupyter extensions\n"
     ]
    }
   ],
   "source": [
    "import numpy as np \n",
    "from matplotlib import pyplot as plt\n",
    "import pickle\n",
    "from synnet.utils.data_utils import SkeletonSet\n",
    "import random\n",
    "random.seed(42)\n",
    "\n",
    "from synnet.encoding.fingerprints import fp_4096\n",
    "from synnet.utils.reconstruct_utils import fetch_oracle\n",
    "from tqdm import tqdm\n",
    "import pandas as pd"
   ]
  },
  {
   "cell_type": "code",
   "execution_count": null,
   "metadata": {},
   "outputs": [],
   "source": []
  },
  {
   "cell_type": "code",
   "execution_count": 5,
   "metadata": {},
   "outputs": [],
   "source": [
    "\n",
    "\n",
    "sts = pickle.load(open('/home/msun415/SynTreeNet/results/viz/skeletons-valid.pkl', 'rb'))\n",
    "all_skeletons = pickle.load(open('/home/msun415/SynTreeNet/results/viz/skeletons-train.pkl','rb'))\n"
   ]
  },
  {
   "cell_type": "code",
   "execution_count": 6,
   "metadata": {},
   "outputs": [
    {
     "name": "stdout",
     "output_type": "stream",
     "text": [
      "begin computing similarity matrix\n"
     ]
    },
    {
     "name": "stderr",
     "output_type": "stream",
     "text": [
      "100%|██████████| 625521/625521 [01:03<00:00, 9783.68it/s] \n"
     ]
    }
   ],
   "source": [
    "\n",
    "sk_set = SkeletonSet().load_skeletons(sts)\n",
    "sk_set.embed_skeletons()\n"
   ]
  },
  {
   "cell_type": "code",
   "execution_count": 7,
   "metadata": {},
   "outputs": [],
   "source": [
    "mol_sks = [(sk.index, sk.tree.nodes[sk.tree_root]['smiles']) for smi in sk_set.lookup for sk in sk_set.lookup[smi]]\n",
    "\n",
    "k = 100\n",
    "\n",
    "vis_class_criteria = lambda i:len(all_skeletons[list(all_skeletons)[i]])\n",
    "top_indices = sorted(range(len(all_skeletons)), key=vis_class_criteria)[-k:]\n",
    "new_class = dict(zip(top_indices[::-1], range(len(top_indices))))\n",
    "\n",
    "# for visualizing sk, restrict to only 10 from each class\n",
    "new_mol_sks = []\n",
    "count = dict(zip(range(len(top_indices)), [0 for _ in top_indices]))\n",
    "for mol_sk in mol_sks:\n",
    "    if mol_sk[0] not in new_class:\n",
    "        continue\n",
    "    if new_class[mol_sk[0]] not in count:\n",
    "        continue\n",
    "    if count[new_class[mol_sk[0]]] >= 30:\n",
    "        continue\n",
    "    new_mol_sks.append((new_class[mol_sk[0]], mol_sk[1]))\n",
    "    count[new_class[mol_sk[0]]] += 1\n",
    "\n",
    "mol_sks = new_mol_sks\n",
    "\n",
    "# random.shuffle(mol_sks)\n",
    "# mol_sks = mol_sks[:1000]"
   ]
  },
  {
   "cell_type": "code",
   "execution_count": 8,
   "metadata": {},
   "outputs": [
    {
     "name": "stderr",
     "output_type": "stream",
     "text": [
      "100%|██████████| 793/793 [00:13<00:00, 56.76it/s]\n"
     ]
    }
   ],
   "source": [
    "fp_dist = np.zeros((len(mol_sks), len(mol_sks)))\n",
    "fps = [np.array(fp_4096(mol_sk[1])) for mol_sk in mol_sks]\n",
    "for i in tqdm(range(len(mol_sks))):\n",
    "    for j in range(len(mol_sks)):\n",
    "        fp_dist[i, j] = np.abs(fps[i]-fps[j]).sum()\n",
    "\n",
    "max_dist = sk_set.sim.max()\n",
    "max_fp_dist = fp_dist.max()\n"
   ]
  },
  {
   "cell_type": "code",
   "execution_count": 9,
   "metadata": {},
   "outputs": [
    {
     "name": "stderr",
     "output_type": "stream",
     "text": [
      "100%|██████████| 793/793 [00:00<00:00, 1111.42it/s]\n",
      "100%|██████████| 793/793 [00:00<00:00, 2540.18it/s]\n"
     ]
    }
   ],
   "source": [
    "lambd = 0.5\n",
    "dists = np.zeros((len(mol_sks), len(mol_sks)))\n",
    "for i in tqdm(range(len(mol_sks))):\n",
    "    for j in range(len(mol_sks)):\n",
    "        index1 = mol_sks[i][0]\n",
    "        index2 = mol_sks[j][0]\n",
    "        dists[i][j] = lambd*sk_set.sim[index1][index2]/max_dist + (1-lambd)*fp_dist[i][j]/max_fp_dist\n",
    "\n",
    "dists_fp = np.zeros((len(mol_sks), len(mol_sks)))\n",
    "for i in tqdm(range(len(mol_sks))):\n",
    "    for j in range(len(mol_sks)):  \n",
    "        dists_fp[i][j] = fp_dist[i][j]/max_fp_dist"
   ]
  },
  {
   "cell_type": "code",
   "execution_count": 10,
   "metadata": {},
   "outputs": [],
   "source": [
    "from sklearn.manifold import MDS\n",
    "# ms = MDS(n_components=2, dissimilarity='precomputed', verbose=1)\n",
    "# coords = ms.fit_transform(dists)\n",
    "ms = MDS(n_components=2, dissimilarity='precomputed', verbose=1)\n",
    "coords_fp = ms.fit_transform(dists_fp)"
   ]
  },
  {
   "cell_type": "code",
   "execution_count": 29,
   "metadata": {},
   "outputs": [
    {
     "name": "stdout",
     "output_type": "stream",
     "text": [
      "QED\n"
     ]
    }
   ],
   "source": [
    "scores = np.array(scores)\n",
    "normalized_scores = (scores - min(scores)) / (max(scores) - min(scores))\n",
    "quantiles = pd.qcut(normalized_scores, 4, labels=False)\n",
    "fig = plt.Figure()\n",
    "ax = fig.add_subplot(1,1,1)  \n",
    "scatter = ax.scatter(coords_fp[:,0], coords_fp[:,1], c=quantiles, cmap=cmap, edgecolor='k', s=10)\n",
    "fig.colorbar(scatter, ax=ax, label='Score')\n",
    "# ax.set_title(f'MDS Plot of Fingerprint-Property relationship')\n",
    "ax.set_xlabel('MDS Dimension 1')\n",
    "ax.set_ylabel('MDS Dimension 2')\n",
    "fig.savefig(f\"/home/msun415/SynTreeNet/fp-wt-h2.png\")"
   ]
  },
  {
   "cell_type": "code",
   "execution_count": null,
   "metadata": {},
   "outputs": [
    {
     "name": "stderr",
     "output_type": "stream",
     "text": [
      " 17%|█▋        | 134/793 [00:00<00:02, 241.03it/s]"
     ]
    }
   ],
   "source": [
    "import pandas as pd\n",
    "plt.rc('text', usetex=False)\n",
    "plt.rc('font', family='serif')\n",
    "plt.rcParams['font.size'] = 12  # Default font size for all text\n",
    "plt.rcParams['axes.titlesize'] = 20  # Font size for axes titles\n",
    "plt.rcParams['axes.labelsize'] = 14  # Font size for x and y labels\n",
    "plt.rcParams['xtick.labelsize'] = 10  # Font size for x-tick labels\n",
    "plt.rcParams['ytick.labelsize'] = 10  # Font size for y-tick labels\n",
    "plt.rcParams['legend.fontsize'] = 14  # Font size for legends\n",
    "cmap = plt.cm.get_cmap('viridis', 4)\n",
    "# 'drd2','gsk','jnk'\n",
    "\n",
    "fig = plt.Figure(figsize=(20,10))\n",
    "fig.suptitle('MDS Plot of Structure-Property Relationships')\n",
    "for i, prop in enumerate(['qed','drd2','gsk','jnk']):\n",
    "    oracle = fetch_oracle(prop)\n",
    "    prop = prop.upper()\n",
    "    print(prop)\n",
    "    scores = [oracle(mol_sk[1]) for mol_sk in tqdm(mol_sks)]    \n",
    "    \n",
    "    ax = fig.add_subplot(2,4,i+1)\n",
    "    scores = np.array(scores)\n",
    "    normalized_scores = (scores - min(scores)) / (max(scores) - min(scores))\n",
    "    quantiles = pd.qcut(normalized_scores, 4, labels=False)\n",
    "    scatter = ax.scatter(coords[:,0], coords[:,1], c=quantiles, cmap=cmap, edgecolor='k', s=50)\n",
    "    cbar = fig.colorbar(scatter, ax=ax, label=f'{prop} Quantile', ticks=[0,1,2,3])\n",
    "    cbar.set_ticklabels(range(4))\n",
    "    ax.set_title(f'MDS Plot of (Tree+FP)-({prop}) relationship')\n",
    "    ax.set_xlabel('MDS Dimension 1')\n",
    "    ax.set_ylabel('MDS Dimension 2')    \n",
    "    fig.savefig(f\"/home/msun415/SynTreeNet/mds-{prop}-0.5.png\",bbox_inches='tight')\n",
    "\n",
    "    fig = plt.Figure()\n",
    "    ax = fig.add_subplot(1,1,1)  \n",
    "    scatter = ax.scatter(coords_fp[:,0], coords_fp[:,1], c=quantiles, cmap=cmap, edgecolor='k', s=50)\n",
    "    cbar = fig.colorbar(scatter, ax=ax, label=f'{prop} Quantile', ticks=[0,1,2,3])\n",
    "    cbar.set_ticklabels(range(4))\n",
    "    ax.set_title(f'MDS Plot of (FP)-({prop}) relationship')\n",
    "    ax.set_xlabel('MDS Dimension 1')\n",
    "    ax.set_ylabel('MDS Dimension 2')    \n",
    "    fig.savefig(f\"/home/msun415/SynTreeNet/mds-{prop}-fp.png\",bbox_inches='tight')\n",
    "\n"
   ]
  },
  {
   "cell_type": "code",
   "execution_count": 15,
   "metadata": {},
   "outputs": [],
   "source": []
  }
 ],
 "metadata": {
  "kernelspec": {
   "display_name": "synnet",
   "language": "python",
   "name": "python3"
  },
  "language_info": {
   "codemirror_mode": {
    "name": "ipython",
    "version": 3
   },
   "file_extension": ".py",
   "mimetype": "text/x-python",
   "name": "python",
   "nbconvert_exporter": "python",
   "pygments_lexer": "ipython3",
   "version": "3.9.18"
  }
 },
 "nbformat": 4,
 "nbformat_minor": 2
}
