{
 "cells": [
  {
   "cell_type": "code",
   "execution_count": 1,
   "metadata": {},
   "outputs": [
    {
     "name": "stderr",
     "output_type": "stream",
     "text": [
      "18:20:17 rdkit INFO: Enabling RDKit 2023.09.5 jupyter extensions\n"
     ]
    }
   ],
   "source": [
    "from matplotlib import pyplot as plt\n",
    "import pickle\n",
    "\n",
    "sts = pickle.load(open('/home/msun415/SynTreeNet/results/viz/skeletons-valid.pkl', 'rb'))\n",
    "\n"
   ]
  },
  {
   "cell_type": "code",
   "execution_count": null,
   "metadata": {},
   "outputs": [],
   "source": []
  },
  {
   "cell_type": "code",
   "execution_count": 2,
   "metadata": {},
   "outputs": [],
   "source": [
    "from synnet.utils.data_utils import SkeletonSet\n",
    "import random\n",
    "random.seed(42)\n",
    "for st in sts:\n",
    "    random.shuffle(sts[st])\n",
    "    sts[st] = sts[st][:5]\n",
    "sk_set = SkeletonSet().load_skeletons(sts)"
   ]
  },
  {
   "cell_type": "code",
   "execution_count": 3,
   "metadata": {},
   "outputs": [
    {
     "name": "stdout",
     "output_type": "stream",
     "text": [
      "begin computing similarity matrix\n"
     ]
    },
    {
     "name": "stderr",
     "output_type": "stream",
     "text": [
      "100%|██████████| 625521/625521 [01:04<00:00, 9656.23it/s] \n"
     ]
    }
   ],
   "source": [
    "sk_set.embed_skeletons()"
   ]
  },
  {
   "cell_type": "code",
   "execution_count": 4,
   "metadata": {},
   "outputs": [
    {
     "name": "stderr",
     "output_type": "stream",
     "text": [
      "18:22:21 faiss.loader INFO: Loading faiss with AVX2 support.\n",
      "18:22:21 faiss.loader INFO: Successfully loaded faiss with AVX2 support.\n"
     ]
    }
   ],
   "source": [
    "import numpy as np \n",
    "from synnet.encoding.fingerprints import fp_4096\n",
    "from synnet.utils.reconstruct_utils import fetch_oracle\n",
    "from tqdm import tqdm\n",
    "\n",
    "mol_sks = [(sk.index, sk.tree.nodes[sk.tree_root]['smiles']) for smi in sk_set.lookup for sk in sk_set.lookup[smi]]\n",
    "\n",
    "\n"
   ]
  },
  {
   "cell_type": "code",
   "execution_count": 5,
   "metadata": {},
   "outputs": [
    {
     "ename": "NameError",
     "evalue": "name 'mols' is not defined",
     "output_type": "error",
     "traceback": [
      "\u001b[0;31m---------------------------------------------------------------------------\u001b[0m",
      "\u001b[0;31mNameError\u001b[0m                                 Traceback (most recent call last)",
      "Cell \u001b[0;32mIn[5], line 1\u001b[0m\n\u001b[0;32m----> 1\u001b[0m \u001b[38;5;28mlen\u001b[39m(sk_set\u001b[38;5;241m.\u001b[39mlookup), \u001b[38;5;28mlen\u001b[39m(\u001b[43mmols\u001b[49m), \u001b[38;5;28mlen\u001b[39m(sk_set\u001b[38;5;241m.\u001b[39msks)\n",
      "\u001b[0;31mNameError\u001b[0m: name 'mols' is not defined"
     ]
    }
   ],
   "source": [
    "len(sk_set.lookup), len(mols), len(sk_set.sks)"
   ]
  },
  {
   "cell_type": "code",
   "execution_count": 6,
   "metadata": {},
   "outputs": [
    {
     "name": "stderr",
     "output_type": "stream",
     "text": [
      "100%|██████████| 793/793 [00:14<00:00, 55.94it/s]\n",
      "100%|██████████| 793/793 [00:00<00:00, 1312.73it/s]\n",
      "100%|██████████| 793/793 [00:00<00:00, 2424.67it/s]\n"
     ]
    }
   ],
   "source": [
    "fp_dist = np.zeros((len(mol_sks), len(mol_sks)))\n",
    "fps = [np.array(fp_4096(mol_sk[1])) for mol_sk in mol_sks]\n",
    "for i in tqdm(range(len(mol_sks))):\n",
    "    for j in range(len(mol_sks)):\n",
    "        fp_dist[i, j] = np.abs(fps[i]-fps[j]).sum()\n",
    "\n",
    "max_dist = sk_set.sim.max()\n",
    "max_fp_dist = fp_dist.max()\n"
   ]
  },
  {
   "cell_type": "code",
   "execution_count": 19,
   "metadata": {},
   "outputs": [
    {
     "name": "stderr",
     "output_type": "stream",
     "text": [
      "100%|██████████| 793/793 [00:01<00:00, 651.99it/s]\n",
      "100%|██████████| 793/793 [00:00<00:00, 1460.26it/s]\n"
     ]
    }
   ],
   "source": [
    "lambd = 1.0\n",
    "dists = np.zeros((len(mol_sks), len(mol_sks)))\n",
    "for i in tqdm(range(len(mol_sks))):\n",
    "    for j in range(len(mol_sks)):\n",
    "        index1 = mol_sks[i][0]\n",
    "        index2 = mol_sks[j][0]\n",
    "        dists[i][j] = lambd*sk_set.sim[index1][index2]/max_dist + (1-lambd)*fp_dist[i][j]/max_fp_dist\n",
    "\n",
    "dists_fp = np.zeros((len(mol_sks), len(mol_sks)))\n",
    "for i in tqdm(range(len(mol_sks))):\n",
    "    for j in range(len(mol_sks)):  \n",
    "        dists_fp[i][j] = fp_dist[i][j]/max_fp_dist"
   ]
  },
  {
   "cell_type": "code",
   "execution_count": 20,
   "metadata": {},
   "outputs": [
    {
     "name": "stdout",
     "output_type": "stream",
     "text": [
      "breaking at iteration 64 with stress 8520.28799619117\n"
     ]
    }
   ],
   "source": [
    "from sklearn.manifold import MDS\n",
    "ms = MDS(n_components=2, dissimilarity='precomputed', verbose=1)\n",
    "coords = ms.fit_transform(dists)\n",
    "ms = MDS(n_components=2, dissimilarity='precomputed', verbose=1)\n",
    "coords_fp = ms.fit_transform(dists_fp)"
   ]
  },
  {
   "cell_type": "code",
   "execution_count": 21,
   "metadata": {},
   "outputs": [
    {
     "name": "stderr",
     "output_type": "stream",
     "text": [
      " 11%|█         | 85/793 [00:00<00:03, 200.84it/s]"
     ]
    },
    {
     "name": "stderr",
     "output_type": "stream",
     "text": [
      "100%|██████████| 793/793 [00:03<00:00, 231.90it/s]\n",
      "Found local copy...\n",
      "100%|██████████| 793/793 [00:15<00:00, 50.11it/s]\n",
      "Found local copy...\n",
      "100%|██████████| 793/793 [01:15<00:00, 10.56it/s]\n",
      "Found local copy...\n",
      "100%|██████████| 793/793 [01:20<00:00,  9.89it/s]\n"
     ]
    }
   ],
   "source": [
    "import pandas as pd\n",
    "cmap = plt.cm.get_cmap('viridis', 4)\n",
    "\n",
    "for prop in ['qed','drd2','gsk','jnk']:\n",
    "    oracle = fetch_oracle(prop)\n",
    "    scores = [oracle(mol_sk[1]) for mol_sk in tqdm(mol_sks)]    \n",
    "    fig = plt.Figure()\n",
    "    ax = fig.add_subplot(1,1,1)\n",
    "    scores = np.array(scores)\n",
    "    normalized_scores = (scores - min(scores)) / (max(scores) - min(scores))\n",
    "    quantiles = pd.qcut(normalized_scores, 4, labels=False)\n",
    "    scatter = ax.scatter(coords[:,0], coords[:,1], c=quantiles, cmap=cmap, edgecolor='k', s=10)\n",
    "    fig.colorbar(scatter, ax=ax, label='Score')\n",
    "    ax.set_title(f'MDS Plot of (Skeleton, Fingerprint)-Property ({prop}) relationship')\n",
    "    ax.set_xlabel('MDS Dimension 1')\n",
    "    ax.set_ylabel('MDS Dimension 2')\n",
    "    fig.savefig(f\"/home/msun415/SynTreeNet/mds-{prop}-1.0.png\")\n",
    "\n",
    "    # fig = plt.Figure()\n",
    "    # ax = fig.add_subplot(1,1,1)  \n",
    "    # scatter = ax.scatter(coords_fp[:,0], coords_fp[:,1], c=quantiles, cmap=cmap, edgecolor='k', s=10)\n",
    "    # fig.colorbar(scatter, ax=ax, label='Score')\n",
    "    # ax.set_title(f'MDS Plot of Fingerprint-Property ({prop}) relationship')\n",
    "    # ax.set_xlabel('MDS Dimension 1')\n",
    "    # ax.set_ylabel('MDS Dimension 2')\n",
    "    # fig.savefig(f\"/home/msun415/SynTreeNet/mds-{prop}-fp.png\")\n",
    "\n"
   ]
  },
  {
   "cell_type": "code",
   "execution_count": null,
   "metadata": {},
   "outputs": [],
   "source": [
    "rxns = "
   ]
  }
 ],
 "metadata": {
  "kernelspec": {
   "display_name": "synnet",
   "language": "python",
   "name": "synnet"
  },
  "language_info": {
   "codemirror_mode": {
    "name": "ipython",
    "version": 3
   },
   "file_extension": ".py",
   "mimetype": "text/x-python",
   "name": "python",
   "nbconvert_exporter": "python",
   "pygments_lexer": "ipython3",
   "version": "3.9.18"
  }
 },
 "nbformat": 4,
 "nbformat_minor": 2
}
