{
 "cells": [
  {
   "cell_type": "code",
   "execution_count": 4,
   "metadata": {},
   "outputs": [
    {
     "name": "stderr",
     "output_type": "stream",
     "text": [
      "10:20:41 rdkit INFO: Enabling RDKit 2022.09.5 jupyter extensions\n"
     ]
    }
   ],
   "source": [
    "import os\n",
    "import pickle\n",
    "hash_dir = '/ssd/msun415/program_cache-bb=1000-prods=2/'\n",
    "programs = pickle.load(open(os.path.join(hash_dir, '2.pkl'), 'rb'))"
   ]
  },
  {
   "cell_type": "code",
   "execution_count": 5,
   "metadata": {},
   "outputs": [],
   "source": [
    "import networkx as nx\n",
    "from synnet.utils.data_utils import binary_tree_to_skeleton, Program\n",
    "\n",
    "def prog_to_binary_tree(prog):\n",
    "    g = nx.DiGraph()\n",
    "    i = 0\n",
    "    child_dic = {}\n",
    "    for e in prog.entries:\n",
    "        if isinstance(e, tuple):\n",
    "            g.add_node(i)\n",
    "            child_dic[e[0]] = child_dic.get(e[0], []) + [(i, e[1]==0)]\n",
    "            i += 1\n",
    "        else:\n",
    "            g.add_node(i)\n",
    "            g.add_node(i+1)            \n",
    "            child_dic[e] = child_dic.get(e, []) + [(i, False), (i+1, True)]\n",
    "            i += 2\n",
    "    r_dic = {}    \n",
    "    for r in prog.rxn_tree:\n",
    "        n = len(g)\n",
    "        g.add_node(n)\n",
    "        for c in list(prog.rxn_tree[r]):\n",
    "            interm = r_dic[c]\n",
    "            left = prog.rxn_tree.nodes[c]['child'] == 'left'\n",
    "            g.add_edge(n, interm, left=left)\n",
    "            g.nodes[interm]['left'] = left\n",
    "        childs = child_dic[r]\n",
    "        for c, left in childs:    \n",
    "            g.add_edge(n, c, left=left)\n",
    "            g.nodes[c]['left'] = left\n",
    "        r_dic[r] = n\n",
    "    return g\n",
    "    "
   ]
  },
  {
   "cell_type": "code",
   "execution_count": null,
   "metadata": {},
   "outputs": [],
   "source": [
    "\n",
    "       \n",
    "\n"
   ]
  },
  {
   "cell_type": "code",
   "execution_count": 6,
   "metadata": {},
   "outputs": [],
   "source": [
    "import heapq\n",
    "import multiprocessing as mp\n",
    "from multiprocessing.pool import ThreadPool\n",
    "from tqdm import tqdm\n",
    "from tdc import Oracle\n",
    "\n",
    "max_size = 128\n",
    "batch_size = 10000\n",
    "\n",
    "heap = []\n",
    "\n",
    "\n",
    "# def scoring(prog):\n",
    "#     oracle = Oracle(name=\"QED\")     \n",
    "#     prog.product_map.load()\n",
    "#     score = 0.\n",
    "#     prod_map = prog.product_map._product_map\n",
    "#     e = 1 if d == 2 else 0\n",
    "#     scores = [oracle(prod) for prod in list(prod_map[e])]\n",
    "#     score = max(scores)\n",
    "#     prog.product_map.unload()\n",
    "#     print(score)\n",
    "#     return score\n",
    "\n",
    "\n",
    "def score_single(smi, d, i):\n",
    "    oracle = Oracle(name=\"QED\")\n",
    "    res = []\n",
    "    if isinstance(smi, list):\n",
    "        for s in smi:\n",
    "            score = oracle(smi)\n",
    "            res.append((score, d, i))\n",
    "    else:\n",
    "        score = oracle(smi)\n",
    "        return (score, d, i)\n",
    "    return res\n",
    "\n",
    "def score_list(lis):\n",
    "    assert isinstance(lis, list)\n",
    "    oracle = Oracle(name=\"QED\")\n",
    "    res = []\n",
    "    for smi, d, i in lis:\n",
    "        score = oracle(smi)\n",
    "        res.append((score, d, i))\n",
    "    return res\n",
    "    \n",
    "    \n"
   ]
  },
  {
   "cell_type": "code",
   "execution_count": 7,
   "metadata": {},
   "outputs": [],
   "source": [
    "import random\n",
    "random.seed(0)\n",
    "batches_per_program = 1\n",
    "fpath = '/home/msun415/SynTreeNet/scores-qed.txt'\n",
    "heap = []\n",
    "max_size = 128\n",
    "\n",
    "def load_file(fpath):\n",
    "    res = []\n",
    "    with open(fpath) as f:\n",
    "        lines = f.readlines()[1:]\n",
    "        for line in tqdm(lines, desc=\"processing lines\"):\n",
    "            line = line.strip('(').rstrip(')\\n')\n",
    "            if not line:\n",
    "                continue  \n",
    "            res.append(line)\n",
    "        return res\n",
    "    \n",
    "# lines = load_file(fpath)\n",
    "\n",
    "def re_eval():\n",
    "    for line in lines:\n",
    "        score, d, ind = line.split(', ')\n",
    "        print(line)\n",
    "        d = int(d)\n",
    "        i = int(ind)\n",
    "        prog = programs[d][int(ind)]\n",
    "        prog.product_map.load()\n",
    "        prod_map = prog.product_map._product_map\n",
    "        e = 1 if d == 2 else 0\n",
    "        smis = [(prod, d, i) for prod in list(prod_map[e])]\n",
    "        random.shuffle(smis)\n",
    "        smis = smis[:batches_per_program*batch_size] # only do first batch\n",
    "        inner_batch_size = (len(smis)+99)//100\n",
    "        smi_lists = [smis[i*inner_batch_size:(i+1)*inner_batch_size] for i in range(100)]\n",
    "        with mp.Pool(100) as p:\n",
    "            scores = p.map(score_list, tqdm(smi_lists, desc=\"single batch\"))        \n",
    "        res = [r for res_lis in scores for r in res_lis]\n",
    "        for (score, d, j), smi in zip(res, smis):\n",
    "            if len(heap) < max_size:\n",
    "                heapq.heappush(heap, (score, d, j, smi))\n",
    "            else:\n",
    "                small = heapq.heappushpop(heap, (score, d, j, smi))\n",
    "        print(heap)\n",
    "\n",
    "\n",
    "fpath = '/home/msun415/SynTreeNet/scores-logp.txt'\n",
    "def load_file2(fpath):\n",
    "    res = []\n",
    "    with open(fpath) as f:\n",
    "        lines = f.readlines()[1:]\n",
    "        for line in tqdm(lines, desc=\"processing lines\"):\n",
    "            line = line.strip('(').rstrip(')\\n')\n",
    "            if not line:\n",
    "                continue  \n",
    "            res.append(line)\n",
    "        return res"
   ]
  },
  {
   "cell_type": "code",
   "execution_count": 18,
   "metadata": {},
   "outputs": [],
   "source": [
    "from synnet.encoding.fingerprints import fp_2048\n",
    "import json\n",
    "\n",
    "def lines_to_json(heap):\n",
    "    dics = []\n",
    "    for score, d, j, smi in heap:\n",
    "        dic = {}\n",
    "        d = int(d)\n",
    "        j = int(j)\n",
    "        tree = prog_to_binary_tree(programs[d][j])\n",
    "        root = next(v for v, d in tree.in_degree() if d == 0)\n",
    "        dic['bt'] = nx.tree_data(tree, root)\n",
    "        dic['fp'] = fp_2048(smi)\n",
    "        dic['smi'] = smi\n",
    "        dics.append(dic)\n",
    "    return dics\n",
    "\n",
    "# json.dump(lines_to_json(heap), open('/home/msun415/SynTreeNet/indvs-qed.json', 'w+'))"
   ]
  },
  {
   "cell_type": "code",
   "execution_count": 19,
   "metadata": {},
   "outputs": [
    {
     "name": "stderr",
     "output_type": "stream",
     "text": [
      "processing lines: 100%|██████████| 131/131 [00:00<00:00, 906689.48it/s]\n"
     ]
    },
    {
     "name": "stdout",
     "output_type": "stream",
     "text": [
      "/home/msun415/SynTreeNet/indvs-drd2.json\n"
     ]
    },
    {
     "name": "stderr",
     "output_type": "stream",
     "text": [
      "processing lines: 100%|██████████| 131/131 [00:00<00:00, 1445931.12it/s]\n"
     ]
    },
    {
     "name": "stdout",
     "output_type": "stream",
     "text": [
      "/home/msun415/SynTreeNet/indvs-jnk.json\n"
     ]
    },
    {
     "name": "stderr",
     "output_type": "stream",
     "text": [
      "processing lines: 100%|██████████| 131/131 [00:00<00:00, 1489034.75it/s]\n"
     ]
    },
    {
     "name": "stdout",
     "output_type": "stream",
     "text": [
      "/home/msun415/SynTreeNet/indvs-logp.json\n"
     ]
    }
   ],
   "source": [
    "for prop in ['drd2','jnk','logp']:\n",
    "    heap = [l.split(', ') for l in load_file2(f'/home/msun415/SynTreeNet/scores-{prop}.txt')]\n",
    "    json.dump(lines_to_json(heap), open(f'/home/msun415/SynTreeNet/indvs-{prop}.json', 'w+'))\n",
    "    print(f'/home/msun415/SynTreeNet/indvs-{prop}.json')"
   ]
  },
  {
   "cell_type": "code",
   "execution_count": null,
   "metadata": {},
   "outputs": [],
   "source": []
  },
  {
   "cell_type": "code",
   "execution_count": null,
   "metadata": {},
   "outputs": [],
   "source": []
  }
 ],
 "metadata": {
  "kernelspec": {
   "display_name": "synnet",
   "language": "python",
   "name": "python3"
  },
  "language_info": {
   "codemirror_mode": {
    "name": "ipython",
    "version": 3
   },
   "file_extension": ".py",
   "mimetype": "text/x-python",
   "name": "python",
   "nbconvert_exporter": "python",
   "pygments_lexer": "ipython3",
   "version": "3.9.18"
  }
 },
 "nbformat": 4,
 "nbformat_minor": 2
}
